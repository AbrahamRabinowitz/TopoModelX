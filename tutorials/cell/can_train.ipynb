{
 "cells": [
  {
   "cell_type": "markdown",
   "metadata": {},
   "source": [
    "# Train a Cellular Attention Network\n",
    "\n",
    "We create and test our implementation of HodgeNet on a toy cellular complex to see if it reads the geometry \n",
    "\n",
    "We create and train a simplified version of the CCXN originally proposed in [Hajij et. al : Cell Complex Neural Networks (2020)](https://arxiv.org/pdf/2010.00743.pdf).\n",
    "\n",
    "### The Neural Network:\n",
    "\n",
    "The equations of one layer of this neural network are given by:\n",
    "\n",
    "1. A convolution from nodes to nodes using an adjacency message passing scheme (AMPS):\n",
    "\n",
    "🟥 $\\quad m_{y \\rightarrow \\{z\\} \\rightarrow x}^{(0 \\rightarrow 1 \\rightarrow 0)} = M_{\\mathcal{L}_\\uparrow}^t(h_x^{t,(0)}, h_y^{t,(0)}, \\Theta^{t,(y \\rightarrow x)})$ \n",
    "\n",
    "🟧 $\\quad m_x^{(0 \\rightarrow 1 \\rightarrow 0)} = AGG_{y \\in \\mathcal{L}_\\uparrow(x)}(m_{y \\rightarrow \\{z\\} \\rightarrow x}^{0 \\rightarrow 1 \\rightarrow 0})$ \n",
    "\n",
    "🟩 $\\quad m_x^{(0)} = m_x^{(0 \\rightarrow 1 \\rightarrow 0)}$ \n",
    "\n",
    "🟦 $\\quad h_x^{t+1,(0)} = U^{t}(h_x^{t,(0)}, m_x^{(0)})$\n",
    "\n",
    "2. A convolution from edges to faces using a cohomology message passing scheme:\n",
    "\n",
    "🟥 $\\quad m_{y \\rightarrow x}^{(r' \\rightarrow r)} = M^t_{\\mathcal{C}}(h_{x}^{t,(r)}, h_y^{t,(r')}, x, y)$ \n",
    "\n",
    "🟧 $\\quad m_x^{(r' \\rightarrow r)}  = AGG_{y \\in \\mathcal{C}(x)} m_{y \\rightarrow x}^{(r' \\rightarrow r)}$ \n",
    "\n",
    "🟩 $\\quad m_x^{(r)} = m_x^{(r' \\rightarrow r)}$ \n",
    "\n",
    "🟦 $\\quad h_{x}^{t+1,(r)} = U^{t,(r)}(h_{x}^{t,(r)}, m_{x}^{(r)})$\n",
    "\n",
    "Where the notations are defined in [Papillon et al : Architectures of Topological Deep Learning: A Survey of Topological Neural Networks (2023)](https://arxiv.org/abs/2304.10031).\n",
    "\n",
    "### The Task:\n",
    "\n",
    "We train this model to perform entire complex classification on [`MUTAG` from the TUDataset](https://paperswithcode.com/dataset/mutag). This dataset contains:\n",
    "- 188 samples of chemical compounds represented as graphs,\n",
    "- with 7 discrete node features.\n",
    "\n",
    "The task is to predict the mutagenicity of each compound on Salmonella typhimurium."
   ]
  },
  {
   "cell_type": "markdown",
   "metadata": {},
   "source": [
    "# Set-up\n"
   ]
  },
  {
   "cell_type": "code",
   "execution_count": 29,
   "metadata": {},
   "outputs": [],
   "source": [
    "import random\n",
    "\n",
    "import numpy as np\n",
    "import torch\n",
    "import toponetx as tnx\n",
    "from toponetx import CellComplex as Cc\n",
    "\n",
    "from sklearn.model_selection import train_test_split\n",
    "from torch_geometric.datasets import TUDataset\n",
    "from torch_geometric.utils.convert import to_networkx\n",
    "\n",
    "from topomodelx.nn.cell.can_layer import CANLayer"
   ]
  },
  {
   "cell_type": "markdown",
   "metadata": {},
   "source": [
    "If GPU's are available, we will make use of them. Otherwise, this will run on CPU."
   ]
  },
  {
   "cell_type": "code",
   "execution_count": 13,
   "metadata": {},
   "outputs": [
    {
     "name": "stdout",
     "output_type": "stream",
     "text": [
      "cpu\n"
     ]
    }
   ],
   "source": [
    "device = torch.device(\"cuda\" if torch.cuda.is_available() else \"cpu\")\n",
    "print(device)"
   ]
  },
  {
   "cell_type": "markdown",
   "metadata": {},
   "source": [
    "# Pre-processing\n",
    "\n",
    "## Creating a Toy Cellular Complex ##\n",
    "\n",
    "We create a toy cellular complex of rank 2 to test our implementation of HodgeNet on"
   ]
  },
  {
   "cell_type": "code",
   "execution_count": 32,
   "metadata": {},
   "outputs": [
    {
     "name": "stdout",
     "output_type": "stream",
     "text": [
      "Cell Complex with 5 nodes, 6 edges  and 2 2-cells \n"
     ]
    }
   ],
   "source": [
    "toy = Cc()\n",
    "toy.add_cells_from([[1, 2, 3], [2, 4, 5, 3]], rank=2)\n",
    "print(toy)"
   ]
  },
  {
   "cell_type": "markdown",
   "metadata": {},
   "source": [
    "# Pre-processing\n",
    "\n",
    "## Import data ##\n",
    "\n",
    "We import a subset of MUTAG, a benchmark dataset for graph classification. \n",
    "\n",
    "We then lift each graph into our topological domain of choice, here: a cell complex.\n",
    "\n",
    "We also retrieve:\n",
    "- input signals `x_0` and `x_1` on the nodes (0-cells) and edges (1-cells) for each complex: these will be the model's inputs,\n",
    "- a binary classification label `y` associated to the cell complex."
   ]
  },
  {
   "cell_type": "code",
   "execution_count": 9,
   "metadata": {},
   "outputs": [
    {
     "name": "stdout",
     "output_type": "stream",
     "text": [
      "Features on nodes for the 0th cell complex: torch.Size([17, 7]).\n",
      "Features on edges for the 0th cell complex: torch.Size([38, 4]).\n",
      "Label of 0th cell complex: 1.\n"
     ]
    },
    {
     "data": {
      "text/plain": [
       "CellView([])"
      ]
     },
     "execution_count": 9,
     "metadata": {},
     "output_type": "execute_result"
    }
   ],
   "source": [
    "dataset = TUDataset(\n",
    "    root=\"/tmp/MUTAG\", name=\"MUTAG\", use_edge_attr=True, use_node_attr=True\n",
    ")\n",
    "dataset = dataset[:100]\n",
    "cc_list = []\n",
    "x_0_list = []\n",
    "x_1_list = []\n",
    "y_list = []\n",
    "for graph in dataset:\n",
    "    cell_complex = CellComplex(to_networkx(graph))\n",
    "    cc_list.append(cell_complex)\n",
    "    x_0_list.append(graph.x)\n",
    "    x_1_list.append(graph.edge_attr)\n",
    "    y_list.append(int(graph.y))\n",
    "\n",
    "i_cc = 0\n",
    "print(f\"Features on nodes for the {i_cc}th cell complex: {x_0_list[i_cc].shape}.\")\n",
    "print(f\"Features on edges for the {i_cc}th cell complex: {x_1_list[i_cc].shape}.\")\n",
    "print(f\"Label of {i_cc}th cell complex: {y_list[i_cc]}.\")\n",
    "\n",
    "cc_list[0].skeleton(rank=2)"
   ]
  },
  {
   "cell_type": "markdown",
   "metadata": {},
   "source": [
    "## Define neighborhood structures. ##\n",
    "\n",
    "Implementing the CCXN architecture will require to perform message passing along neighborhood structures of the cell complexes.\n",
    "\n",
    "Thus, now we retrieve these neighborhood structures (i.e. their representative matrices) that we will use to send messages. \n",
    "\n",
    "For the CCXN, we need the adjacency matrix $A_{\\uparrow, 0}$ and the coboundary matrix $B_2^T$ of each cell complex."
   ]
  },
  {
   "cell_type": "code",
   "execution_count": 4,
   "metadata": {},
   "outputs": [
    {
     "ename": "ValueError",
     "evalue": "Rank should larger than 0 and <= 0 (maximal dimension cells-1), got 1.",
     "output_type": "error",
     "traceback": [
      "\u001b[1;31m---------------------------------------------------------------------------\u001b[0m",
      "\u001b[1;31mValueError\u001b[0m                                Traceback (most recent call last)",
      "Cell \u001b[1;32mIn[4], line 4\u001b[0m\n\u001b[0;32m      2\u001b[0m down_laplacian_list \u001b[38;5;241m=\u001b[39m []\n\u001b[0;32m      3\u001b[0m \u001b[38;5;28;01mfor\u001b[39;00m cell_complex \u001b[38;5;129;01min\u001b[39;00m cc_list:\n\u001b[1;32m----> 4\u001b[0m     up_laplacian \u001b[38;5;241m=\u001b[39m \u001b[43mcell_complex\u001b[49m\u001b[38;5;241;43m.\u001b[39;49m\u001b[43mup_laplacian_matrix\u001b[49m\u001b[43m(\u001b[49m\u001b[43mrank\u001b[49m\u001b[38;5;241;43m=\u001b[39;49m\u001b[38;5;241;43m1\u001b[39;49m\u001b[43m)\u001b[49m\n\u001b[0;32m      5\u001b[0m     down_laplacian \u001b[38;5;241m=\u001b[39m cell_complex\u001b[38;5;241m.\u001b[39mdown_laplacian_matrix(rank\u001b[38;5;241m=\u001b[39m\u001b[38;5;241m1\u001b[39m)\n\u001b[0;32m      6\u001b[0m     up_laplacian \u001b[38;5;241m=\u001b[39m torch\u001b[38;5;241m.\u001b[39mfrom_numpy(up_laplacian\u001b[38;5;241m.\u001b[39mtodense())\u001b[38;5;241m.\u001b[39mto_sparse()\n",
      "File \u001b[1;32m~\\anaconda3\\envs\\topological\\Lib\\site-packages\\toponetx\\classes\\cell_complex.py:1501\u001b[0m, in \u001b[0;36mCellComplex.up_laplacian_matrix\u001b[1;34m(self, rank, signed, weight, index)\u001b[0m\n\u001b[0;32m   1498\u001b[0m     L_up \u001b[38;5;241m=\u001b[39m B_next \u001b[38;5;241m@\u001b[39m B_next\u001b[38;5;241m.\u001b[39mtranspose()\n\u001b[0;32m   1499\u001b[0m \u001b[38;5;28;01melse\u001b[39;00m:\n\u001b[1;32m-> 1501\u001b[0m     \u001b[38;5;28;01mraise\u001b[39;00m \u001b[38;5;167;01mValueError\u001b[39;00m(\n\u001b[0;32m   1502\u001b[0m         \u001b[38;5;124mf\u001b[39m\u001b[38;5;124m\"\u001b[39m\u001b[38;5;124mRank should larger than 0 and <= \u001b[39m\u001b[38;5;132;01m{\u001b[39;00m\u001b[38;5;28mself\u001b[39m\u001b[38;5;241m.\u001b[39mmaxdim\u001b[38;5;241m-\u001b[39m\u001b[38;5;241m1\u001b[39m\u001b[38;5;132;01m}\u001b[39;00m\u001b[38;5;124m (maximal dimension cells-1), got \u001b[39m\u001b[38;5;132;01m{\u001b[39;00mrank\u001b[38;5;132;01m}\u001b[39;00m\u001b[38;5;124m.\u001b[39m\u001b[38;5;124m\"\u001b[39m\n\u001b[0;32m   1503\u001b[0m     )\n\u001b[0;32m   1504\u001b[0m \u001b[38;5;28;01mif\u001b[39;00m \u001b[38;5;129;01mnot\u001b[39;00m signed:\n\u001b[0;32m   1505\u001b[0m     L_up \u001b[38;5;241m=\u001b[39m \u001b[38;5;28mabs\u001b[39m(L_up)\n",
      "\u001b[1;31mValueError\u001b[0m: Rank should larger than 0 and <= 0 (maximal dimension cells-1), got 1."
     ]
    }
   ],
   "source": [
    "up_laplacian_list = []\n",
    "down_laplacian_list = []\n",
    "for cell_complex in cc_list:\n",
    "    up_laplacian = cell_complex.up_laplacian_matrix(rank=1)\n",
    "    down_laplacian = cell_complex.down_laplacian_matrix(rank=1)\n",
    "    up_laplacian = torch.from_numpy(up_laplacian.todense()).to_sparse()\n",
    "    down_laplacian = torch.from_numpy(down_laplacian.todense()).to_sparse()\n",
    "    up_laplacian_list.append(up_laplacian)\n",
    "    down_laplacian_list.append(down_laplacian)\n",
    "\n",
    "i_cc = 0\n",
    "print(f\"Up Laplacian of the {i_cc}-th complex: {up_laplacian_list[i_cc].shape}.\")\n",
    "print(f\"Down Laplacian of the {i_cc}-th complex: {down_laplacian_list[i_cc].shape}.\")"
   ]
  },
  {
   "cell_type": "markdown",
   "metadata": {},
   "source": [
    "# Create the Neural Network\n",
    "\n",
    "Using the CCXNLayer class, we create a neural network with stacked layers."
   ]
  },
  {
   "cell_type": "code",
   "execution_count": 6,
   "metadata": {},
   "outputs": [
    {
     "name": "stdout",
     "output_type": "stream",
     "text": [
      "The dimension of input features on nodes, edges and faces are: 7, 4 and 5.\n"
     ]
    }
   ],
   "source": [
    "in_channels_0 = x_0_list[0].shape[-1]\n",
    "in_channels_1 = x_1_list[0].shape[-1]\n",
    "in_channels_2 = 5\n",
    "print(\n",
    "    f\"The dimension of input features on nodes, edges and faces are: {in_channels_0}, {in_channels_1} and {in_channels_2}.\"\n",
    ")"
   ]
  },
  {
   "cell_type": "code",
   "execution_count": 7,
   "metadata": {},
   "outputs": [],
   "source": [
    "class CAN(torch.nn.Module):\n",
    "    \"\"\"CCXN.\n",
    "\n",
    "    Parameters\n",
    "    ----------\n",
    "    in_channels_0 : int\n",
    "        Dimension of input features on nodes.\n",
    "    in_channels_1 : int\n",
    "        Dimension of input features on edges.\n",
    "    in_channels_2 : int\n",
    "        Dimension of input features on faces.\n",
    "    num_classes : int\n",
    "        Number of classes.\n",
    "    n_layers : int\n",
    "        Number of CCXN layers.\n",
    "    att : bool\n",
    "        Whether to use attention.\n",
    "    \"\"\"\n",
    "\n",
    "    def __init__(\n",
    "        self,\n",
    "        in_channels_0,\n",
    "        in_channels_1,\n",
    "        num_classes,\n",
    "        n_layers=2,\n",
    "    ):\n",
    "        super().__init__()\n",
    "        layers = []\n",
    "        for _ in range(n_layers):\n",
    "            layers.append(CANLayer(channels=in_channels_1))\n",
    "        self.layers = layers\n",
    "        self.lin_0 = torch.nn.Linear(in_channels_0, num_classes)\n",
    "        self.lin_1 = torch.nn.Linear(in_channels_1, num_classes)\n",
    "\n",
    "    def forward(self, x_0, x_1, down_laplacian, up_laplacian):\n",
    "        \"\"\"Forward computation through layers, then linear layers, then avg pooling.\n",
    "\n",
    "        Parameters\n",
    "        ----------\n",
    "        x_0 : torch.Tensor, shape = [n_nodes, in_channels_0]\n",
    "            Input features on the nodes (0-cells).\n",
    "        x_1 : torch.Tensor, shape = [n_edges, in_channels_1]\n",
    "            Input features on the edges (1-cells).\n",
    "        neighborhood_0_to_0 : tensor, shape = [n_nodes, n_nodes]\n",
    "            Adjacency matrix of rank 0 (up).\n",
    "        neighborhood_1_to_2 : tensor, shape = [n_faces, n_edges]\n",
    "            Transpose of boundary matrix of rank 2.\n",
    "        x_2 : torch.Tensor, shape = [n_faces, in_channels_2]\n",
    "            Input features on the faces (2-cells).\n",
    "            Optional. Use for attention mechanism between edges and faces.\n",
    "\n",
    "        Returns\n",
    "        -------\n",
    "        _ : tensor, shape = [1]\n",
    "            Label assigned to whole complex.\n",
    "        \"\"\"\n",
    "        for layer in self.layers:\n",
    "            x_1 = layer(x_1, down_laplacian, up_laplacian)\n",
    "        x_0 = self.lin_0(x_0)\n",
    "        x_1 = self.lin_1(x_1)\n",
    "        return torch.mean(x_1, dim=0) + torch.mean(x_0, dim=0)"
   ]
  },
  {
   "cell_type": "markdown",
   "metadata": {},
   "source": [
    "# Train the Neural Network\n",
    "\n",
    "We specify the model, initialize loss, and specify an optimizer. We first try it without any attention mechanism."
   ]
  },
  {
   "cell_type": "code",
   "execution_count": 8,
   "metadata": {},
   "outputs": [],
   "source": [
    "model = HodgeNet(in_channels_0, in_channels_1, num_classes=2, n_layers=2)\n",
    "model = model.to(device)\n",
    "crit = torch.nn.CrossEntropyLoss()\n",
    "opt = torch.optim.Adam(model.parameters(), lr=0.1)"
   ]
  },
  {
   "cell_type": "markdown",
   "metadata": {},
   "source": [
    "We split the dataset into train and test sets."
   ]
  },
  {
   "cell_type": "code",
   "execution_count": 9,
   "metadata": {},
   "outputs": [],
   "source": [
    "test_size = 0.2\n",
    "x_0_train, x_0_test = train_test_split(x_0_list, test_size=test_size, shuffle=False)\n",
    "x_1_train, x_1_test = train_test_split(x_1_list, test_size=test_size, shuffle=False)\n",
    "up_laplacian_train, up_laplacian_test = train_test_split(\n",
    "    up_laplacian_list, test_size=test_size, shuffle=False\n",
    ")\n",
    "down_laplacian_train, down_laplacian_test = train_test_split(\n",
    "    down_laplacian_list, test_size=test_size, shuffle=False\n",
    ")\n",
    "y_train, y_test = train_test_split(y_list, test_size=test_size, shuffle=False)"
   ]
  },
  {
   "cell_type": "markdown",
   "metadata": {},
   "source": [
    "We train the CCXN using low amount of epochs: we keep training minimal for the purpose of rapid testing."
   ]
  },
  {
   "cell_type": "code",
   "execution_count": 10,
   "metadata": {},
   "outputs": [
    {
     "name": "stdout",
     "output_type": "stream",
     "text": [
      "Epoch: 1 loss: nan Train_acc: 0.3750\n",
      "Epoch: 2 loss: nan Train_acc: 0.3750\n",
      "Test_acc: 0.5000\n",
      "Epoch: 3 loss: nan Train_acc: 0.3750\n",
      "Epoch: 4 loss: nan Train_acc: 0.3750\n",
      "Test_acc: 0.5000\n"
     ]
    }
   ],
   "source": [
    "test_interval = 2\n",
    "for epoch_i in range(1, 5):\n",
    "    epoch_loss = []\n",
    "    num_samples = 0\n",
    "    correct = 0\n",
    "    model.train()\n",
    "    for x_0, x_1, up_laplacian, down_laplacian, y in zip(\n",
    "        x_0_train, x_1_train, up_laplacian_train, down_laplacian_train, y_train\n",
    "    ):\n",
    "        opt.zero_grad()\n",
    "\n",
    "        y_hat = model(\n",
    "            x_0.float(), x_1.float(), down_laplacian.float(), up_laplacian.float()\n",
    "        )\n",
    "        y = torch.tensor(y).long()\n",
    "        loss = crit(y_hat, y)\n",
    "        correct += (y_hat.argmax() == y).sum().item()\n",
    "        num_samples += 1\n",
    "        loss.backward()\n",
    "        opt.step()\n",
    "        epoch_loss.append(loss.item())\n",
    "    train_acc = correct / num_samples\n",
    "    print(\n",
    "        f\"Epoch: {epoch_i} loss: {np.mean(epoch_loss):.4f} Train_acc: {train_acc:.4f}\",\n",
    "        flush=True,\n",
    "    )\n",
    "    if epoch_i % test_interval == 0:\n",
    "        with torch.no_grad():\n",
    "            num_samples = 0\n",
    "            correct = 0\n",
    "            for x_0, x_1, down_laplacian, up_laplacian, y in zip(\n",
    "                x_0_test, x_1_test, down_laplacian_test, up_laplacian_test, y_test\n",
    "            ):\n",
    "                y = torch.tensor(y).long()\n",
    "                y_hat = model(\n",
    "                    x_0.float(),\n",
    "                    x_1.float(),\n",
    "                    down_laplacian.float(),\n",
    "                    up_laplacian.float(),\n",
    "                )\n",
    "\n",
    "                correct += (y_hat.argmax() == y).sum().item()\n",
    "                num_samples += 1\n",
    "            test_acc = correct / num_samples\n",
    "            print(f\"Test_acc: {test_acc:.4f}\", flush=True)"
   ]
  },
  {
   "cell_type": "markdown",
   "metadata": {},
   "source": [
    "# Train the Neural Network with Attention\n"
   ]
  },
  {
   "cell_type": "markdown",
   "metadata": {},
   "source": [
    "Now we create a new neural network, that uses the attention mechanism."
   ]
  },
  {
   "cell_type": "code",
   "execution_count": 11,
   "metadata": {},
   "outputs": [],
   "source": [
    "model = CCXN(\n",
    "    in_channels_0, in_channels_1, in_channels_2, num_classes=2, n_layers=2, att=True\n",
    ")\n",
    "model = model.to(device)\n",
    "crit = torch.nn.CrossEntropyLoss()\n",
    "opt = torch.optim.Adam(model.parameters(), lr=0.1)"
   ]
  },
  {
   "cell_type": "markdown",
   "metadata": {},
   "source": [
    "We run the training for this neural network:"
   ]
  },
  {
   "cell_type": "code",
   "execution_count": 12,
   "metadata": {},
   "outputs": [
    {
     "name": "stdout",
     "output_type": "stream",
     "text": [
      "Epoch: 1 loss: nan Train_acc: 0.3750\n",
      "Epoch: 2 loss: nan Train_acc: 0.3750\n",
      "Test_acc: 0.5000\n",
      "Epoch: 3 loss: nan Train_acc: 0.3750\n",
      "Epoch: 4 loss: nan Train_acc: 0.3750\n",
      "Test_acc: 0.5000\n"
     ]
    }
   ],
   "source": [
    "test_interval = 2\n",
    "for epoch_i in range(1, 5):\n",
    "    epoch_loss = []\n",
    "    num_samples = 0\n",
    "    correct = 0\n",
    "    model.train()\n",
    "    for x_0, x_1, incidence_2_t, adjacency_0, y in zip(\n",
    "        x_0_train, x_1_train, incidence_2_t_train, adjacency_0_train, y_train\n",
    "    ):\n",
    "        opt.zero_grad()\n",
    "\n",
    "        y_hat = model(\n",
    "            x_0.float(), x_1.float(), adjacency_0.float(), incidence_2_t.float()\n",
    "        )\n",
    "        y = torch.tensor(y).long()\n",
    "        loss = crit(y_hat, y)\n",
    "        correct += (y_hat.argmax() == y).sum().item()\n",
    "        num_samples += 1\n",
    "        loss.backward()\n",
    "        opt.step()\n",
    "        epoch_loss.append(loss.item())\n",
    "    train_acc = correct / num_samples\n",
    "    print(\n",
    "        f\"Epoch: {epoch_i} loss: {np.mean(epoch_loss):.4f} Train_acc: {train_acc:.4f}\",\n",
    "        flush=True,\n",
    "    )\n",
    "    if epoch_i % test_interval == 0:\n",
    "        with torch.no_grad():\n",
    "            num_samples = 0\n",
    "            correct = 0\n",
    "            for x_0, x_1, incidence_2_t, adjacency_0, y in zip(\n",
    "                x_0_test, x_1_test, incidence_2_t_test, adjacency_0_test, y_test\n",
    "            ):\n",
    "                y = torch.tensor(y).long()\n",
    "                y_hat = model(\n",
    "                    x_0.float(), x_1.float(), adjacency_0.float(), incidence_2_t.float()\n",
    "                )\n",
    "\n",
    "                correct += (y_hat.argmax() == y).sum().item()\n",
    "                num_samples += 1\n",
    "            test_acc = correct / num_samples\n",
    "            print(f\"Test_acc: {test_acc:.4f}\", flush=True)"
   ]
  },
  {
   "cell_type": "code",
   "execution_count": null,
   "metadata": {},
   "outputs": [],
   "source": []
  }
 ],
 "metadata": {
  "kernelspec": {
   "display_name": "Python 3 (ipykernel)",
   "language": "python",
   "name": "python3"
  },
  "language_info": {
   "codemirror_mode": {
    "name": "ipython",
    "version": 3
   },
   "file_extension": ".py",
   "mimetype": "text/x-python",
   "name": "python",
   "nbconvert_exporter": "python",
   "pygments_lexer": "ipython3",
   "version": "3.11.3"
  }
 },
 "nbformat": 4,
 "nbformat_minor": 4
}
